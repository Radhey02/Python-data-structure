{
 "cells": [
  {
   "cell_type": "code",
   "execution_count": 2,
   "id": "5cb1b503",
   "metadata": {},
   "outputs": [],
   "source": [
    "list_instance = list ()"
   ]
  },
  {
   "cell_type": "code",
   "execution_count": 3,
   "id": "92325eba",
   "metadata": {},
   "outputs": [
    {
     "data": {
      "text/plain": [
       "[]"
      ]
     },
     "execution_count": 3,
     "metadata": {},
     "output_type": "execute_result"
    }
   ],
   "source": [
    "list_instance"
   ]
  },
  {
   "cell_type": "code",
   "execution_count": 4,
   "id": "9adaaaa1",
   "metadata": {},
   "outputs": [],
   "source": [
    "list_instance.append(20)"
   ]
  },
  {
   "cell_type": "code",
   "execution_count": 5,
   "id": "066fad76",
   "metadata": {},
   "outputs": [
    {
     "name": "stdout",
     "output_type": "stream",
     "text": [
      "[20]\n"
     ]
    }
   ],
   "source": [
    "print(list_instance)"
   ]
  },
  {
   "cell_type": "code",
   "execution_count": 6,
   "id": "50f850ba",
   "metadata": {},
   "outputs": [],
   "source": [
    "list_instance.append(\"This class is for data structure-list\")"
   ]
  },
  {
   "cell_type": "code",
   "execution_count": 7,
   "id": "2f608c6e",
   "metadata": {},
   "outputs": [
    {
     "name": "stdout",
     "output_type": "stream",
     "text": [
      "[20, 'This class is for data structure-list']\n"
     ]
    }
   ],
   "source": [
    "print(list_instance)"
   ]
  },
  {
   "cell_type": "code",
   "execution_count": 8,
   "id": "7ff004f1",
   "metadata": {},
   "outputs": [],
   "source": [
    "list_instance.append(25.1)"
   ]
  },
  {
   "cell_type": "code",
   "execution_count": 9,
   "id": "d219f01e",
   "metadata": {},
   "outputs": [
    {
     "name": "stdout",
     "output_type": "stream",
     "text": [
      "[20, 'This class is for data structure-list', 25.1]\n"
     ]
    }
   ],
   "source": [
    "print(list_instance)"
   ]
  },
  {
   "cell_type": "code",
   "execution_count": 10,
   "id": "f2368e22",
   "metadata": {},
   "outputs": [],
   "source": [
    "list_instance.clear()"
   ]
  },
  {
   "cell_type": "code",
   "execution_count": 11,
   "id": "2c299bfe",
   "metadata": {},
   "outputs": [
    {
     "name": "stdout",
     "output_type": "stream",
     "text": [
      "[]\n"
     ]
    }
   ],
   "source": [
    "print(list_instance)"
   ]
  },
  {
   "cell_type": "code",
   "execution_count": 12,
   "id": "a9b66bb2",
   "metadata": {},
   "outputs": [
    {
     "data": {
      "text/plain": [
       "[]"
      ]
     },
     "execution_count": 12,
     "metadata": {},
     "output_type": "execute_result"
    }
   ],
   "source": [
    "list_instance.copy()"
   ]
  },
  {
   "cell_type": "code",
   "execution_count": 13,
   "id": "c9b889d8",
   "metadata": {},
   "outputs": [],
   "source": [
    "list_instance.append(18)"
   ]
  },
  {
   "cell_type": "code",
   "execution_count": 14,
   "id": "c540e124",
   "metadata": {},
   "outputs": [
    {
     "name": "stdout",
     "output_type": "stream",
     "text": [
      "[18]\n"
     ]
    }
   ],
   "source": [
    "print(list_instance)"
   ]
  },
  {
   "cell_type": "code",
   "execution_count": 15,
   "id": "15e95a31",
   "metadata": {},
   "outputs": [],
   "source": [
    "list_instance.append(\"This class is for data structure-list\")"
   ]
  },
  {
   "cell_type": "code",
   "execution_count": 16,
   "id": "2bdba178",
   "metadata": {},
   "outputs": [
    {
     "name": "stdout",
     "output_type": "stream",
     "text": [
      "[18, 'This class is for data structure-list']\n"
     ]
    }
   ],
   "source": [
    "print(list_instance)"
   ]
  },
  {
   "cell_type": "code",
   "execution_count": 25,
   "id": "e0b9a067",
   "metadata": {},
   "outputs": [],
   "source": [
    "y=list_instance.copy()"
   ]
  },
  {
   "cell_type": "code",
   "execution_count": 26,
   "id": "e4c404f9",
   "metadata": {
    "scrolled": true
   },
   "outputs": [
    {
     "name": "stdout",
     "output_type": "stream",
     "text": [
      "[18, 'This class is for data structure-list']\n"
     ]
    }
   ],
   "source": [
    "print(y)"
   ]
  },
  {
   "cell_type": "code",
   "execution_count": 27,
   "id": "860896b8",
   "metadata": {},
   "outputs": [
    {
     "data": {
      "text/plain": [
       "1"
      ]
     },
     "execution_count": 27,
     "metadata": {},
     "output_type": "execute_result"
    }
   ],
   "source": [
    "y.count(18)"
   ]
  },
  {
   "cell_type": "code",
   "execution_count": 28,
   "id": "38b83694",
   "metadata": {},
   "outputs": [],
   "source": [
    "y.append(18)"
   ]
  },
  {
   "cell_type": "code",
   "execution_count": 29,
   "id": "2ff86f48",
   "metadata": {},
   "outputs": [
    {
     "name": "stdout",
     "output_type": "stream",
     "text": [
      "[18, 'This class is for data structure-list', 18]\n"
     ]
    }
   ],
   "source": [
    "print(y)"
   ]
  },
  {
   "cell_type": "code",
   "execution_count": 30,
   "id": "91555ca8",
   "metadata": {},
   "outputs": [
    {
     "data": {
      "text/plain": [
       "2"
      ]
     },
     "execution_count": 30,
     "metadata": {},
     "output_type": "execute_result"
    }
   ],
   "source": [
    "y.count(18)"
   ]
  },
  {
   "cell_type": "code",
   "execution_count": 31,
   "id": "4edff785",
   "metadata": {},
   "outputs": [],
   "source": [
    "c=y.count(20)"
   ]
  },
  {
   "cell_type": "code",
   "execution_count": 32,
   "id": "6e6c0e9e",
   "metadata": {},
   "outputs": [
    {
     "name": "stdout",
     "output_type": "stream",
     "text": [
      "0\n"
     ]
    }
   ],
   "source": [
    "print(c)"
   ]
  },
  {
   "cell_type": "code",
   "execution_count": 33,
   "id": "75d161cd",
   "metadata": {},
   "outputs": [
    {
     "data": {
      "text/plain": [
       "0"
      ]
     },
     "execution_count": 33,
     "metadata": {},
     "output_type": "execute_result"
    }
   ],
   "source": [
    "y.count(20)"
   ]
  },
  {
   "cell_type": "code",
   "execution_count": 35,
   "id": "7372ac24",
   "metadata": {},
   "outputs": [],
   "source": [
    "y.extend([25,900])"
   ]
  },
  {
   "cell_type": "code",
   "execution_count": 36,
   "id": "c1023825",
   "metadata": {},
   "outputs": [
    {
     "name": "stdout",
     "output_type": "stream",
     "text": [
      "[18, 'This class is for data structure-list', 18, 25, 900]\n"
     ]
    }
   ],
   "source": [
    "print(y)"
   ]
  },
  {
   "cell_type": "code",
   "execution_count": 42,
   "id": "603a8534",
   "metadata": {},
   "outputs": [],
   "source": [
    "y.extend([18.1,18.2])"
   ]
  },
  {
   "cell_type": "code",
   "execution_count": 43,
   "id": "fd04fe41",
   "metadata": {},
   "outputs": [
    {
     "name": "stdout",
     "output_type": "stream",
     "text": [
      "[18, 'This class is for data structure-list', 18, 25, 900, 18.1, 18.2]\n"
     ]
    }
   ],
   "source": [
    "print(y)"
   ]
  },
  {
   "cell_type": "code",
   "execution_count": 44,
   "id": "c4b4113d",
   "metadata": {},
   "outputs": [
    {
     "data": {
      "text/plain": [
       "6"
      ]
     },
     "execution_count": 44,
     "metadata": {},
     "output_type": "execute_result"
    }
   ],
   "source": [
    "y.index(18.2)"
   ]
  },
  {
   "cell_type": "code",
   "execution_count": 47,
   "id": "598b66ab",
   "metadata": {},
   "outputs": [],
   "source": [
    "i = y.index(18)"
   ]
  },
  {
   "cell_type": "code",
   "execution_count": 48,
   "id": "b5b12954",
   "metadata": {},
   "outputs": [
    {
     "name": "stdout",
     "output_type": "stream",
     "text": [
      "0\n"
     ]
    }
   ],
   "source": [
    "print(i)"
   ]
  },
  {
   "cell_type": "markdown",
   "id": "7f4141cd",
   "metadata": {},
   "source": [
    "apne btya ki first index hi lega but agar bahut numbers hue or apan logo ko pta krna h to kaise krnge..??"
   ]
  },
  {
   "cell_type": "code",
   "execution_count": 49,
   "id": "062d80ce",
   "metadata": {},
   "outputs": [
    {
     "name": "stdout",
     "output_type": "stream",
     "text": [
      "[18, 'This class is for data structure-list', 18, 25, 900, 18.1, 18.2]\n"
     ]
    }
   ],
   "source": [
    "print(y)"
   ]
  },
  {
   "cell_type": "code",
   "execution_count": 54,
   "id": "e8a6a8fc",
   "metadata": {},
   "outputs": [],
   "source": [
    "y.insert(1,1)"
   ]
  },
  {
   "cell_type": "code",
   "execution_count": 55,
   "id": "c9aaad5a",
   "metadata": {},
   "outputs": [
    {
     "name": "stdout",
     "output_type": "stream",
     "text": [
      "[18, 1, 'This class is for data structure-list', 18, 25, 900, 18.1, 18.2]\n"
     ]
    }
   ],
   "source": [
    "print(y)"
   ]
  },
  {
   "cell_type": "code",
   "execution_count": 56,
   "id": "3e6cc2c2",
   "metadata": {},
   "outputs": [],
   "source": [
    "y.insert(0,90)"
   ]
  },
  {
   "cell_type": "code",
   "execution_count": 57,
   "id": "7efabd9b",
   "metadata": {},
   "outputs": [
    {
     "name": "stdout",
     "output_type": "stream",
     "text": [
      "[90, 18, 1, 'This class is for data structure-list', 18, 25, 900, 18.1, 18.2]\n"
     ]
    }
   ],
   "source": [
    "print(y)"
   ]
  },
  {
   "cell_type": "code",
   "execution_count": 61,
   "id": "cbb325a5",
   "metadata": {},
   "outputs": [
    {
     "name": "stdout",
     "output_type": "stream",
     "text": [
      "[18, 1, 'This class is for data structure-list', 25, 900, 18.1, 18.2]\n"
     ]
    }
   ],
   "source": [
    "print(y)"
   ]
  },
  {
   "cell_type": "code",
   "execution_count": 78,
   "id": "87a9de0a",
   "metadata": {},
   "outputs": [
    {
     "name": "stdout",
     "output_type": "stream",
     "text": [
      "[18, 1]\n"
     ]
    }
   ],
   "source": [
    "print(y)"
   ]
  },
  {
   "cell_type": "code",
   "execution_count": 79,
   "id": "cc6c8f75",
   "metadata": {},
   "outputs": [],
   "source": [
    "y.insert(0,200)"
   ]
  },
  {
   "cell_type": "code",
   "execution_count": 80,
   "id": "4059d529",
   "metadata": {},
   "outputs": [
    {
     "name": "stdout",
     "output_type": "stream",
     "text": [
      "[200, 18, 1]\n"
     ]
    }
   ],
   "source": [
    "print(y)"
   ]
  },
  {
   "cell_type": "code",
   "execution_count": 81,
   "id": "e97a2627",
   "metadata": {},
   "outputs": [],
   "source": [
    "y.insert(2,\"This class is for data structure-list\")"
   ]
  },
  {
   "cell_type": "code",
   "execution_count": 83,
   "id": "a6edc594",
   "metadata": {},
   "outputs": [
    {
     "name": "stdout",
     "output_type": "stream",
     "text": [
      "[200, 18, 'This class is for data structure-list', 1]\n"
     ]
    }
   ],
   "source": [
    "print(y)"
   ]
  },
  {
   "cell_type": "code",
   "execution_count": 105,
   "id": "a742a2e8",
   "metadata": {},
   "outputs": [],
   "source": [
    "popped_iteam = y.pop()"
   ]
  },
  {
   "cell_type": "code",
   "execution_count": 106,
   "id": "a3469756",
   "metadata": {},
   "outputs": [
    {
     "name": "stdout",
     "output_type": "stream",
     "text": [
      "18\n"
     ]
    }
   ],
   "source": [
    "print(popped_iteam)"
   ]
  },
  {
   "cell_type": "code",
   "execution_count": 107,
   "id": "d8375484",
   "metadata": {},
   "outputs": [
    {
     "name": "stdout",
     "output_type": "stream",
     "text": [
      "['This class is for data structure-list']\n"
     ]
    }
   ],
   "source": [
    "print(y)"
   ]
  },
  {
   "cell_type": "code",
   "execution_count": 86,
   "id": "ed405a28",
   "metadata": {},
   "outputs": [
    {
     "name": "stdout",
     "output_type": "stream",
     "text": [
      "[200, 18, 'This class is for data structure-list']\n"
     ]
    }
   ],
   "source": [
    "print(y)"
   ]
  },
  {
   "cell_type": "code",
   "execution_count": 87,
   "id": "cae79761",
   "metadata": {},
   "outputs": [],
   "source": [
    "y.remove(200)"
   ]
  },
  {
   "cell_type": "code",
   "execution_count": 88,
   "id": "f4cd8f25",
   "metadata": {},
   "outputs": [
    {
     "name": "stdout",
     "output_type": "stream",
     "text": [
      "[18, 'This class is for data structure-list']\n"
     ]
    }
   ],
   "source": [
    "print(y)"
   ]
  },
  {
   "cell_type": "code",
   "execution_count": 90,
   "id": "0cec3a95",
   "metadata": {},
   "outputs": [],
   "source": [
    "y.reverse()"
   ]
  },
  {
   "cell_type": "code",
   "execution_count": 91,
   "id": "9066212f",
   "metadata": {},
   "outputs": [
    {
     "name": "stdout",
     "output_type": "stream",
     "text": [
      "['This class is for data structure-list', 18]\n"
     ]
    }
   ],
   "source": [
    "print(y)\n"
   ]
  },
  {
   "cell_type": "code",
   "execution_count": 94,
   "id": "48d2c093",
   "metadata": {},
   "outputs": [],
   "source": [
    "p = [12,34,35,67,89,45,20]"
   ]
  },
  {
   "cell_type": "code",
   "execution_count": 102,
   "id": "dbcf2536",
   "metadata": {},
   "outputs": [],
   "source": [
    "p.sort()"
   ]
  },
  {
   "cell_type": "code",
   "execution_count": 97,
   "id": "1e2be087",
   "metadata": {},
   "outputs": [
    {
     "name": "stdout",
     "output_type": "stream",
     "text": [
      "[12, 20, 34, 35, 45, 67, 89]\n"
     ]
    }
   ],
   "source": [
    "print(p)"
   ]
  },
  {
   "cell_type": "code",
   "execution_count": 103,
   "id": "79fd6538",
   "metadata": {},
   "outputs": [],
   "source": [
    "p.sort(reverse=True)"
   ]
  },
  {
   "cell_type": "code",
   "execution_count": 104,
   "id": "ec4e2163",
   "metadata": {},
   "outputs": [
    {
     "name": "stdout",
     "output_type": "stream",
     "text": [
      "[89, 67, 45, 35, 34, 20, 12]\n"
     ]
    }
   ],
   "source": [
    "print(p)"
   ]
  },
  {
   "cell_type": "code",
   "execution_count": null,
   "id": "536be067",
   "metadata": {},
   "outputs": [],
   "source": []
  }
 ],
 "metadata": {
  "kernelspec": {
   "display_name": "Python 3 (ipykernel)",
   "language": "python",
   "name": "python3"
  },
  "language_info": {
   "codemirror_mode": {
    "name": "ipython",
    "version": 3
   },
   "file_extension": ".py",
   "mimetype": "text/x-python",
   "name": "python",
   "nbconvert_exporter": "python",
   "pygments_lexer": "ipython3",
   "version": "3.9.13"
  }
 },
 "nbformat": 4,
 "nbformat_minor": 5
}
